{
 "cells": [
  {
   "cell_type": "code",
   "execution_count": 50,
   "source": [
    "import pandas as pd\r\n",
    "from sklearn.model_selection import train_test_split\r\n",
    "from sklearn.metrics import accuracy_score, confusion_matrix, classification_report, f1_score, recall_score, precision_score\r\n",
    "from sklearn.svm import SVC\r\n",
    "from sklearn.model_selection import GridSearchCV\r\n",
    "import seaborn as sns\r\n",
    "import matplotlib.pyplot as plt\r\n",
    "import numpy as np"
   ],
   "outputs": [],
   "metadata": {}
  },
  {
   "cell_type": "code",
   "execution_count": 51,
   "source": [
    "df = pd.read_csv('thedataset.csv')\r\n",
    "df.columns = [i for i in range(df.shape[1])]\r\n",
    "df"
   ],
   "outputs": [
    {
     "output_type": "execute_result",
     "data": {
      "text/plain": [
       "            0         1             2         3         4         5   \\\n",
       "0     0.528169  0.751558 -8.500000e-07  0.438499  0.670550 -0.012420   \n",
       "1     0.566986  0.784178 -9.100000e-07  0.471936  0.682928 -0.017493   \n",
       "2     0.611351  0.816964 -1.050000e-06  0.516094  0.706861 -0.015911   \n",
       "3     0.657960  0.809100 -9.040000e-07  0.569685  0.707656 -0.022884   \n",
       "4     0.670085  0.780062 -8.130000e-07  0.590681  0.683798 -0.017477   \n",
       "...        ...       ...           ...       ...       ...       ...   \n",
       "8523  0.583056  0.547201 -6.660000e-07  0.510258  0.482231 -0.024021   \n",
       "8524  0.586742  0.589105 -6.770000e-07  0.516122  0.517241 -0.024004   \n",
       "8525  0.590701  0.628709 -7.330000e-07  0.525621  0.547542 -0.021342   \n",
       "8526  0.596762  0.639015 -7.580000e-07  0.530909  0.554805 -0.022134   \n",
       "8527  0.624206  0.621905 -7.360000e-07  0.557861  0.538061 -0.025272   \n",
       "\n",
       "            6         7         8         9   ...        54        55  \\\n",
       "0     0.395904  0.544991 -0.014329  0.380105  ...  0.592657  0.470643   \n",
       "1     0.430715  0.550965 -0.024315  0.412029  ...  0.655957  0.476536   \n",
       "2     0.472323  0.563737 -0.022967  0.454225  ...  0.713345  0.490519   \n",
       "3     0.526954  0.575972 -0.035635  0.508380  ...  0.759740  0.510618   \n",
       "4     0.553290  0.565117 -0.025763  0.536578  ...  0.758560  0.507238   \n",
       "...        ...       ...       ...       ...  ...       ...       ...   \n",
       "8523  0.469992  0.381165 -0.040475  0.449240  ...  0.744056  0.298126   \n",
       "8524  0.479733  0.413595 -0.040888  0.463785  ...  0.757717  0.357158   \n",
       "8525  0.496057  0.434978 -0.036266  0.483263  ...  0.773386  0.404602   \n",
       "8526  0.499781  0.442938 -0.037963  0.488211  ...  0.783211  0.418886   \n",
       "8527  0.532533  0.427382 -0.042285  0.526582  ...  0.821699  0.416123   \n",
       "\n",
       "            56        57        58        59        60        61        62  63  \n",
       "0    -0.045323  0.572114  0.536496 -0.026737  0.578367  0.562970 -0.006884   A  \n",
       "1    -0.050478  0.624769  0.541335 -0.028249  0.623685  0.574726 -0.006422   A  \n",
       "2    -0.063652  0.682194  0.562760 -0.039012  0.679816  0.596180 -0.014920   A  \n",
       "3    -0.060662  0.731810  0.578309 -0.037702  0.727891  0.608349 -0.015311   A  \n",
       "4    -0.046437  0.735496  0.565314 -0.026548  0.729930  0.594148 -0.007326   A  \n",
       "...        ...       ...       ...       ...       ...       ...       ...  ..  \n",
       "8523 -0.048796  0.763852  0.256090 -0.049499  0.781515  0.210050 -0.045197   Y  \n",
       "8524 -0.055518  0.778686  0.316220 -0.057188  0.795894  0.268639 -0.054214   Y  \n",
       "8525 -0.057903  0.796318  0.364364 -0.059340  0.817909  0.317210 -0.055794   Y  \n",
       "8526 -0.062215  0.806306  0.379008 -0.062263  0.827493  0.329193 -0.057602   Y  \n",
       "8527 -0.054448  0.846693  0.376563 -0.054827  0.869929  0.328812 -0.050755   Y  \n",
       "\n",
       "[8528 rows x 64 columns]"
      ],
      "text/html": [
       "<div>\n",
       "<style scoped>\n",
       "    .dataframe tbody tr th:only-of-type {\n",
       "        vertical-align: middle;\n",
       "    }\n",
       "\n",
       "    .dataframe tbody tr th {\n",
       "        vertical-align: top;\n",
       "    }\n",
       "\n",
       "    .dataframe thead th {\n",
       "        text-align: right;\n",
       "    }\n",
       "</style>\n",
       "<table border=\"1\" class=\"dataframe\">\n",
       "  <thead>\n",
       "    <tr style=\"text-align: right;\">\n",
       "      <th></th>\n",
       "      <th>0</th>\n",
       "      <th>1</th>\n",
       "      <th>2</th>\n",
       "      <th>3</th>\n",
       "      <th>4</th>\n",
       "      <th>5</th>\n",
       "      <th>6</th>\n",
       "      <th>7</th>\n",
       "      <th>8</th>\n",
       "      <th>9</th>\n",
       "      <th>...</th>\n",
       "      <th>54</th>\n",
       "      <th>55</th>\n",
       "      <th>56</th>\n",
       "      <th>57</th>\n",
       "      <th>58</th>\n",
       "      <th>59</th>\n",
       "      <th>60</th>\n",
       "      <th>61</th>\n",
       "      <th>62</th>\n",
       "      <th>63</th>\n",
       "    </tr>\n",
       "  </thead>\n",
       "  <tbody>\n",
       "    <tr>\n",
       "      <th>0</th>\n",
       "      <td>0.528169</td>\n",
       "      <td>0.751558</td>\n",
       "      <td>-8.500000e-07</td>\n",
       "      <td>0.438499</td>\n",
       "      <td>0.670550</td>\n",
       "      <td>-0.012420</td>\n",
       "      <td>0.395904</td>\n",
       "      <td>0.544991</td>\n",
       "      <td>-0.014329</td>\n",
       "      <td>0.380105</td>\n",
       "      <td>...</td>\n",
       "      <td>0.592657</td>\n",
       "      <td>0.470643</td>\n",
       "      <td>-0.045323</td>\n",
       "      <td>0.572114</td>\n",
       "      <td>0.536496</td>\n",
       "      <td>-0.026737</td>\n",
       "      <td>0.578367</td>\n",
       "      <td>0.562970</td>\n",
       "      <td>-0.006884</td>\n",
       "      <td>A</td>\n",
       "    </tr>\n",
       "    <tr>\n",
       "      <th>1</th>\n",
       "      <td>0.566986</td>\n",
       "      <td>0.784178</td>\n",
       "      <td>-9.100000e-07</td>\n",
       "      <td>0.471936</td>\n",
       "      <td>0.682928</td>\n",
       "      <td>-0.017493</td>\n",
       "      <td>0.430715</td>\n",
       "      <td>0.550965</td>\n",
       "      <td>-0.024315</td>\n",
       "      <td>0.412029</td>\n",
       "      <td>...</td>\n",
       "      <td>0.655957</td>\n",
       "      <td>0.476536</td>\n",
       "      <td>-0.050478</td>\n",
       "      <td>0.624769</td>\n",
       "      <td>0.541335</td>\n",
       "      <td>-0.028249</td>\n",
       "      <td>0.623685</td>\n",
       "      <td>0.574726</td>\n",
       "      <td>-0.006422</td>\n",
       "      <td>A</td>\n",
       "    </tr>\n",
       "    <tr>\n",
       "      <th>2</th>\n",
       "      <td>0.611351</td>\n",
       "      <td>0.816964</td>\n",
       "      <td>-1.050000e-06</td>\n",
       "      <td>0.516094</td>\n",
       "      <td>0.706861</td>\n",
       "      <td>-0.015911</td>\n",
       "      <td>0.472323</td>\n",
       "      <td>0.563737</td>\n",
       "      <td>-0.022967</td>\n",
       "      <td>0.454225</td>\n",
       "      <td>...</td>\n",
       "      <td>0.713345</td>\n",
       "      <td>0.490519</td>\n",
       "      <td>-0.063652</td>\n",
       "      <td>0.682194</td>\n",
       "      <td>0.562760</td>\n",
       "      <td>-0.039012</td>\n",
       "      <td>0.679816</td>\n",
       "      <td>0.596180</td>\n",
       "      <td>-0.014920</td>\n",
       "      <td>A</td>\n",
       "    </tr>\n",
       "    <tr>\n",
       "      <th>3</th>\n",
       "      <td>0.657960</td>\n",
       "      <td>0.809100</td>\n",
       "      <td>-9.040000e-07</td>\n",
       "      <td>0.569685</td>\n",
       "      <td>0.707656</td>\n",
       "      <td>-0.022884</td>\n",
       "      <td>0.526954</td>\n",
       "      <td>0.575972</td>\n",
       "      <td>-0.035635</td>\n",
       "      <td>0.508380</td>\n",
       "      <td>...</td>\n",
       "      <td>0.759740</td>\n",
       "      <td>0.510618</td>\n",
       "      <td>-0.060662</td>\n",
       "      <td>0.731810</td>\n",
       "      <td>0.578309</td>\n",
       "      <td>-0.037702</td>\n",
       "      <td>0.727891</td>\n",
       "      <td>0.608349</td>\n",
       "      <td>-0.015311</td>\n",
       "      <td>A</td>\n",
       "    </tr>\n",
       "    <tr>\n",
       "      <th>4</th>\n",
       "      <td>0.670085</td>\n",
       "      <td>0.780062</td>\n",
       "      <td>-8.130000e-07</td>\n",
       "      <td>0.590681</td>\n",
       "      <td>0.683798</td>\n",
       "      <td>-0.017477</td>\n",
       "      <td>0.553290</td>\n",
       "      <td>0.565117</td>\n",
       "      <td>-0.025763</td>\n",
       "      <td>0.536578</td>\n",
       "      <td>...</td>\n",
       "      <td>0.758560</td>\n",
       "      <td>0.507238</td>\n",
       "      <td>-0.046437</td>\n",
       "      <td>0.735496</td>\n",
       "      <td>0.565314</td>\n",
       "      <td>-0.026548</td>\n",
       "      <td>0.729930</td>\n",
       "      <td>0.594148</td>\n",
       "      <td>-0.007326</td>\n",
       "      <td>A</td>\n",
       "    </tr>\n",
       "    <tr>\n",
       "      <th>...</th>\n",
       "      <td>...</td>\n",
       "      <td>...</td>\n",
       "      <td>...</td>\n",
       "      <td>...</td>\n",
       "      <td>...</td>\n",
       "      <td>...</td>\n",
       "      <td>...</td>\n",
       "      <td>...</td>\n",
       "      <td>...</td>\n",
       "      <td>...</td>\n",
       "      <td>...</td>\n",
       "      <td>...</td>\n",
       "      <td>...</td>\n",
       "      <td>...</td>\n",
       "      <td>...</td>\n",
       "      <td>...</td>\n",
       "      <td>...</td>\n",
       "      <td>...</td>\n",
       "      <td>...</td>\n",
       "      <td>...</td>\n",
       "      <td>...</td>\n",
       "    </tr>\n",
       "    <tr>\n",
       "      <th>8523</th>\n",
       "      <td>0.583056</td>\n",
       "      <td>0.547201</td>\n",
       "      <td>-6.660000e-07</td>\n",
       "      <td>0.510258</td>\n",
       "      <td>0.482231</td>\n",
       "      <td>-0.024021</td>\n",
       "      <td>0.469992</td>\n",
       "      <td>0.381165</td>\n",
       "      <td>-0.040475</td>\n",
       "      <td>0.449240</td>\n",
       "      <td>...</td>\n",
       "      <td>0.744056</td>\n",
       "      <td>0.298126</td>\n",
       "      <td>-0.048796</td>\n",
       "      <td>0.763852</td>\n",
       "      <td>0.256090</td>\n",
       "      <td>-0.049499</td>\n",
       "      <td>0.781515</td>\n",
       "      <td>0.210050</td>\n",
       "      <td>-0.045197</td>\n",
       "      <td>Y</td>\n",
       "    </tr>\n",
       "    <tr>\n",
       "      <th>8524</th>\n",
       "      <td>0.586742</td>\n",
       "      <td>0.589105</td>\n",
       "      <td>-6.770000e-07</td>\n",
       "      <td>0.516122</td>\n",
       "      <td>0.517241</td>\n",
       "      <td>-0.024004</td>\n",
       "      <td>0.479733</td>\n",
       "      <td>0.413595</td>\n",
       "      <td>-0.040888</td>\n",
       "      <td>0.463785</td>\n",
       "      <td>...</td>\n",
       "      <td>0.757717</td>\n",
       "      <td>0.357158</td>\n",
       "      <td>-0.055518</td>\n",
       "      <td>0.778686</td>\n",
       "      <td>0.316220</td>\n",
       "      <td>-0.057188</td>\n",
       "      <td>0.795894</td>\n",
       "      <td>0.268639</td>\n",
       "      <td>-0.054214</td>\n",
       "      <td>Y</td>\n",
       "    </tr>\n",
       "    <tr>\n",
       "      <th>8525</th>\n",
       "      <td>0.590701</td>\n",
       "      <td>0.628709</td>\n",
       "      <td>-7.330000e-07</td>\n",
       "      <td>0.525621</td>\n",
       "      <td>0.547542</td>\n",
       "      <td>-0.021342</td>\n",
       "      <td>0.496057</td>\n",
       "      <td>0.434978</td>\n",
       "      <td>-0.036266</td>\n",
       "      <td>0.483263</td>\n",
       "      <td>...</td>\n",
       "      <td>0.773386</td>\n",
       "      <td>0.404602</td>\n",
       "      <td>-0.057903</td>\n",
       "      <td>0.796318</td>\n",
       "      <td>0.364364</td>\n",
       "      <td>-0.059340</td>\n",
       "      <td>0.817909</td>\n",
       "      <td>0.317210</td>\n",
       "      <td>-0.055794</td>\n",
       "      <td>Y</td>\n",
       "    </tr>\n",
       "    <tr>\n",
       "      <th>8526</th>\n",
       "      <td>0.596762</td>\n",
       "      <td>0.639015</td>\n",
       "      <td>-7.580000e-07</td>\n",
       "      <td>0.530909</td>\n",
       "      <td>0.554805</td>\n",
       "      <td>-0.022134</td>\n",
       "      <td>0.499781</td>\n",
       "      <td>0.442938</td>\n",
       "      <td>-0.037963</td>\n",
       "      <td>0.488211</td>\n",
       "      <td>...</td>\n",
       "      <td>0.783211</td>\n",
       "      <td>0.418886</td>\n",
       "      <td>-0.062215</td>\n",
       "      <td>0.806306</td>\n",
       "      <td>0.379008</td>\n",
       "      <td>-0.062263</td>\n",
       "      <td>0.827493</td>\n",
       "      <td>0.329193</td>\n",
       "      <td>-0.057602</td>\n",
       "      <td>Y</td>\n",
       "    </tr>\n",
       "    <tr>\n",
       "      <th>8527</th>\n",
       "      <td>0.624206</td>\n",
       "      <td>0.621905</td>\n",
       "      <td>-7.360000e-07</td>\n",
       "      <td>0.557861</td>\n",
       "      <td>0.538061</td>\n",
       "      <td>-0.025272</td>\n",
       "      <td>0.532533</td>\n",
       "      <td>0.427382</td>\n",
       "      <td>-0.042285</td>\n",
       "      <td>0.526582</td>\n",
       "      <td>...</td>\n",
       "      <td>0.821699</td>\n",
       "      <td>0.416123</td>\n",
       "      <td>-0.054448</td>\n",
       "      <td>0.846693</td>\n",
       "      <td>0.376563</td>\n",
       "      <td>-0.054827</td>\n",
       "      <td>0.869929</td>\n",
       "      <td>0.328812</td>\n",
       "      <td>-0.050755</td>\n",
       "      <td>Y</td>\n",
       "    </tr>\n",
       "  </tbody>\n",
       "</table>\n",
       "<p>8528 rows × 64 columns</p>\n",
       "</div>"
      ]
     },
     "metadata": {},
     "execution_count": 51
    }
   ],
   "metadata": {}
  },
  {
   "cell_type": "code",
   "execution_count": 52,
   "source": [
    "df.isnull()\r\n",
    "df.isnull().sum().sum()\r\n",
    "df.dropna(inplace=True)"
   ],
   "outputs": [],
   "metadata": {}
  },
  {
   "cell_type": "code",
   "execution_count": 53,
   "source": [
    "df.shape"
   ],
   "outputs": [
    {
     "output_type": "execute_result",
     "data": {
      "text/plain": [
       "(8446, 64)"
      ]
     },
     "metadata": {},
     "execution_count": 53
    }
   ],
   "metadata": {}
  },
  {
   "cell_type": "code",
   "execution_count": 54,
   "source": [
    "X = df[df.columns[0:63]]\r\n",
    "print(\"Features shape =\", X.shape)\r\n",
    "\r\n",
    "Y = df[df.columns[-1]]\r\n",
    "print(\"Labels shape =\", Y.shape)"
   ],
   "outputs": [
    {
     "output_type": "stream",
     "name": "stdout",
     "text": [
      "Features shape = (8446, 63)\n",
      "Labels shape = (8446,)\n"
     ]
    }
   ],
   "metadata": {}
  },
  {
   "cell_type": "code",
   "execution_count": null,
   "source": [],
   "outputs": [],
   "metadata": {}
  },
  {
   "cell_type": "code",
   "execution_count": 55,
   "source": [
    "x_train, x_test, y_train, y_test = train_test_split(X, Y, test_size=0.2, random_state=0)\r\n",
    "svm = SVC(C=10, gamma=0.1, kernel='rbf')\r\n",
    "svm.fit(x_train, y_train)"
   ],
   "outputs": [
    {
     "output_type": "execute_result",
     "data": {
      "text/plain": [
       "SVC(C=10, gamma=0.1)"
      ]
     },
     "metadata": {},
     "execution_count": 55
    }
   ],
   "metadata": {}
  },
  {
   "cell_type": "code",
   "execution_count": 56,
   "source": [
    "x_test.shape"
   ],
   "outputs": [
    {
     "output_type": "execute_result",
     "data": {
      "text/plain": [
       "(1690, 63)"
      ]
     },
     "metadata": {},
     "execution_count": 56
    }
   ],
   "metadata": {}
  },
  {
   "cell_type": "code",
   "execution_count": 69,
   "source": [
    "y_pred = svm.predict(x_test)\r\n",
    "y_pred"
   ],
   "outputs": [
    {
     "output_type": "execute_result",
     "data": {
      "text/plain": [
       "array(['Q', 'L', 'A', ..., 'H', 'P', 'A'], dtype=object)"
      ]
     },
     "metadata": {},
     "execution_count": 69
    }
   ],
   "metadata": {}
  },
  {
   "cell_type": "code",
   "execution_count": 70,
   "source": [
    "cf_matrix = confusion_matrix(y_test, y_pred)\r\n",
    "f1 = f1_score(y_test, y_pred, average='micro')\r\n",
    "recall = recall_score(y_test, y_pred, average='micro')\r\n",
    "precision = precision_score(y_test, y_pred, average='micro')\r\n",
    "f1, recall, precision"
   ],
   "outputs": [
    {
     "output_type": "execute_result",
     "data": {
      "text/plain": [
       "(0.04792899408284024, 0.04792899408284024, 0.04792899408284024)"
      ]
     },
     "metadata": {},
     "execution_count": 70
    }
   ],
   "metadata": {}
  },
  {
   "cell_type": "code",
   "execution_count": 71,
   "source": [
    "labels = sorted(list(set(Y.to_list())))\r\n",
    "labels = [x.upper() for x in labels]\r\n",
    "\r\n",
    "fig, ax = plt.subplots(figsize=(12, 12))\r\n",
    "\r\n",
    "ax.set_title(\"Confusion Matrix - American Sign Language\")\r\n",
    "\r\n",
    "maping = sns.heatmap(cf_matrix, \r\n",
    "                     annot=True,\r\n",
    "                     cmap = plt.cm.Blues, \r\n",
    "                     linewidths=.2,\r\n",
    "                     xticklabels=labels,\r\n",
    "                     yticklabels=labels, vmax=8,\r\n",
    "                     fmt='g',\r\n",
    "                     ax=ax\r\n",
    "                    )\r\n",
    "maping"
   ],
   "outputs": [
    {
     "output_type": "execute_result",
     "data": {
      "text/plain": [
       "<AxesSubplot:title={'center':'Confusion Matrix - American Sign Language'}>"
      ]
     },
     "metadata": {},
     "execution_count": 71
    }
   ],
   "metadata": {}
  },
  {
   "cell_type": "code",
   "execution_count": 60,
   "source": [
    "import pickle\r\n",
    "\r\n",
    "# save model\r\n",
    "with open('new-model-1.pkl','wb') as f:\r\n",
    "    pickle.dump(svm,f)"
   ],
   "outputs": [],
   "metadata": {}
  },
  {
   "cell_type": "code",
   "execution_count": null,
   "source": [],
   "outputs": [],
   "metadata": {}
  },
  {
   "cell_type": "code",
   "execution_count": 61,
   "source": [
    "from sklearn.neighbors import KNeighborsClassifier\r\n",
    "from sklearn.neighbors import KNeighborsClassifier\r\n",
    "from sklearn.model_selection import train_test_split\r\n",
    "from sklearn.datasets import load_iris\r\n",
    "import numpy as np\r\n",
    "import matplotlib.pyplot as plt\r\n",
    "\r\n",
    "\r\n",
    "X_train, X_test, y_train, y_test = train_test_split( X, Y, test_size = 0.2, random_state=42)\r\n",
    "\r\n",
    "knn = KNeighborsClassifier(n_neighbors=7)\r\n",
    " \r\n",
    "knn.fit(X_train, y_train)\r\n",
    " "
   ],
   "outputs": [
    {
     "output_type": "execute_result",
     "data": {
      "text/plain": [
       "KNeighborsClassifier(n_neighbors=7)"
      ]
     },
     "metadata": {},
     "execution_count": 61
    }
   ],
   "metadata": {}
  },
  {
   "cell_type": "code",
   "execution_count": 64,
   "source": [
    "import pickle\r\n",
    "\r\n",
    "# save model\r\n",
    "with open('kmeans-new-model.pkl','wb') as f:\r\n",
    "    pickle.dump(knn,f)"
   ],
   "outputs": [],
   "metadata": {}
  },
  {
   "cell_type": "code",
   "execution_count": 65,
   "source": [
    "y_pred = knn.predict(x_test)"
   ],
   "outputs": [],
   "metadata": {}
  }
 ],
 "metadata": {
  "interpreter": {
   "hash": "9bf2ca0f4a7adc3ce2f237ca763c1538d3ef289a4e7face3612a01cdae9f6807"
  },
  "kernelspec": {
   "name": "python3",
   "display_name": "Python 3.10.1 64-bit"
  },
  "language_info": {
   "codemirror_mode": {
    "name": "ipython",
    "version": 3
   },
   "file_extension": ".py",
   "mimetype": "text/x-python",
   "name": "python",
   "nbconvert_exporter": "python",
   "pygments_lexer": "ipython3",
   "version": "3.10.1"
  },
  "orig_nbformat": 4
 },
 "nbformat": 4,
 "nbformat_minor": 2
}